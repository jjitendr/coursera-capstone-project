{
 "cells": [
  {
   "cell_type": "markdown",
   "metadata": {},
   "source": [
    "## Finding a good neighborhood for your family in the city of Toronto based on your criteria"
   ]
  },
  {
   "cell_type": "markdown",
   "metadata": {},
   "source": [
    "### Introduction where you discuss the business problem and who would be interested in this project.\n",
    "\n",
    "People with kids, coming from suburbs, small towns or other countries to Toronto city looking \n",
    "for an accomodation have one common problem i.e. finding a good neighborhood for a home. \n",
    "They first criteria is having a good school in the neighborhood. And then other amenities\n",
    "like Restaurants and Parks etc. \n",
    "\n",
    "This problem is faced by families all over the world to varying extents. Most impacted are the families with kids who have to be \n",
    "more aware of the neighborhood. In some areas, school is the primary driver while in others public transport may be the primary driver.\n",
    "So this project is intended to guide one to solve this type of problem. Depending on the location and the influencing drivers \n",
    "this project can be modified.\n"
   ]
  },
  {
   "cell_type": "markdown",
   "metadata": {},
   "source": [
    "### Data where you describe the data that will be used to solve the problem and the source of the data.\n",
    "\n",
    "The dataset will be dervied from different sources:\n",
    "--> Location data for toronto will be used from the previous assignments where we got the postal codes, latitudes and longitudes\n",
    "for Toronto city.\n",
    "\n",
    "--> Venue data will be extracted using Foursquare API's using the location latitudes and longitudes.\n",
    "\n",
    "--> School data will be extracted from a website. Initial idea was to scrape the HTML data from this website for all postal codes. \n",
    "But this site provides postal code only as an internal filter without any change in the URL. So finally the approach taken was to \n",
    "download data for each postal code one at a time and then merge all the postal codes in one file.\n",
    "http://ontario.compareschoolrankings.org/elementary/SchoolsByRankLocationName.aspx?schooltype=elementary"
   ]
  },
  {
   "cell_type": "markdown",
   "metadata": {},
   "source": [
    "### Methodology section which represents the main component of the report where you discuss and describe any exploratory data analysis that you did, any inferential statistical testing that you performed, and what machine learnings were used and why.\n",
    "\n",
    "The aim was to find few of the important venues in a neighborhood that can impact a home buyer or renter, who in our case is a family with kids. \n",
    "I didn't consider population, size of neighborhood, crime rate etc for this project.\n",
    "\n",
    "Data analysis was done to understand :\n",
    "--> what type of venues should be considered. For families with kids, school is a very important criteria. Next i checked for Hospitals and Parks\n",
    "and found that there are few around most neighborhoods. I narrowed down my search to Grocery Shops and Restaurants.\n",
    "\n",
    "--> For schools, using foursquare i could not get the full list of elementary schools along with their ratings in Toronto. So i had to use a website to download data for schools by postal code.\n",
    "\n",
    "Inferential statistical testing:\n",
    "--> I wanted to include count as well as the mean rating for restaurants and grocery shops. Using Foursquare i checked for the venue ratings,\n",
    "but found that most of them don't have a rating on Foursquare. So i chose to only include Restaurant and Park counts in the dataset using foursquare.\n",
    "\n",
    "I used kmeans clustering to group neighborhoods based on these criteria. School Ratings, Park counts, Restaurant counts were passed to the clustering algorithm to give the results in the form of 4 different clusters. This algorithm was best suited for this kind of clustering problem."
   ]
  },
  {
   "cell_type": "markdown",
   "metadata": {},
   "source": [
    "### Results section where you discuss the results.\n",
    "\n",
    "The idea is to group neighborhoods that have similar characterstics i.e. schools followed by grocery shops and restaurants. \n",
    "There are 38 neighborhoods in Toronto containing Toronto in the Borough name. On exploring venues using Foursquare, I see that there are\n",
    "34 neighborhoods with Parks and 30 neighborhoods with Restaurants in a 500 meter radius around the neighborhood location. For Parks and Restaurants, \n",
    "i group by neighborhood to get the counts.\n",
    "\n",
    "Since the first criteria is School, we narrow down our list to the neighborhoods having good elementary schools. \n",
    "For this I check elementary school in all 38 neighborhoods using the school data and find 29 elementary schools with rating >= 8. \n",
    "Next i group these schools by neighborhood to get the mean rating. Finally i have 16 neighborhoods with good schools to looks at. \n",
    "\n",
    "Now i merge these 16 neighborhoods with the Parks and Restaurants dataset to arrive at our final data for clustering. Among these 16 neighborhoods, \n",
    "i have few with either no parks or no restaurants.\n",
    "\n",
    "Finally I run kmeans clustering on this final dataset with a cluseter size of 4. The kmeans clustering algorithm does a good job in clusetering the neighborhoods\n",
    "based on schools, parks and restaurants."
   ]
  },
  {
   "cell_type": "markdown",
   "metadata": {},
   "source": [
    "### Discussion section where you discuss any observations you noted and any recommendations you can make based on the results.\n",
    "\n",
    "The results show that majority of neighborhoods i.e. 8 out of 16 have the same characterstics. They have good schools, few parks and very few restaurants.\n",
    "The next two big clusters have 3 neighborhoods each. School ratings are almost the same whereas one has fewer parks and restaurants than the other. The smallest \n",
    "cluster has only one neighborhood with a very high school rating and a lot of restaurants. Based on the clusters, one can recommend a neighborhood to a family. \n",
    "\n",
    "Some observations:\n",
    "\n",
    "--> Adding more attributes like restaurant rating would have made more useful for the end user to be able to select neighborhoods with good restaurants. \n",
    "    Since Foursquare doesn't have good ratings data in this case, would have liked to use Google or other API's instead.\n",
    "\n",
    "--> Would have like to scrape the school data from the website, but the process is very complicated\n"
   ]
  },
  {
   "cell_type": "markdown",
   "metadata": {},
   "source": [
    "### Conclusion section where you conclude the report.\n",
    "\n",
    "Observing the clusters, one can choose which neighborhoods to look at for finding a home. \n",
    "You can use this process and algorithm in other use cases as well. Ex. to find a good neighborhood for a new restaurant or a new grocery shop. \n",
    "Or find a neighborhood with low crime rate and population.\n",
    "\n",
    "The major takeaway from this project is that one can customize this dataset to add more venues as well as more attributes. For ex, we can chose \n",
    "to add Grocery shops or Hospitals to the venue list. Similarly one can choose to include the Restaurant rating along with the count for each neighborhood.\n",
    "So one can have the results based on their set of criteria."
   ]
  },
  {
   "cell_type": "code",
   "execution_count": null,
   "metadata": {},
   "outputs": [],
   "source": []
  }
 ],
 "metadata": {
  "kernelspec": {
   "display_name": "Python 3",
   "language": "python",
   "name": "python3"
  },
  "language_info": {
   "codemirror_mode": {
    "name": "ipython",
    "version": 3
   },
   "file_extension": ".py",
   "mimetype": "text/x-python",
   "name": "python",
   "nbconvert_exporter": "python",
   "pygments_lexer": "ipython3",
   "version": "3.6.5"
  }
 },
 "nbformat": 4,
 "nbformat_minor": 2
}
